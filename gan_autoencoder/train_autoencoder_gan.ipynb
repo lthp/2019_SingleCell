{
 "cells": [
  {
   "cell_type": "code",
   "execution_count": null,
   "metadata": {},
   "outputs": [],
   "source": [
    "import numpy as np\n",
    "import matplotlib.pyplot as plt\n",
    "import pandas as pd\n",
    "import pyarrow as pa\n",
    "import pyarrow.parquet as pq\n",
    "from scipy.stats import norm\n",
    "from sklearn.model_selection import train_test_split\n",
    "\n",
    "import tensorflow as tf \n",
    "from tensorflow.python.keras.layers import Input, Dense, Lambda, Flatten, Reshape, Concatenate\n",
    "from tensorflow.python.keras.layers import Conv2D, Conv2DTranspose, BatchNormalization, Activation, LeakyReLU\n",
    "from tensorflow.python.keras.models import Model\n",
    "import tensorflow.keras.backend as K\n",
    "from tensorflow.python.keras import metrics\n",
    "from tensorflow.python.keras.callbacks import ModelCheckpoint, LearningRateScheduler\n",
    "from tensorflow.python.keras.datasets import mnist\n",
    "from tensorflow.python.keras.models import Sequential, Model\n",
    "from tensorflow.python.keras.optimizers import Adam\n",
    "\n",
    "import pdb\n",
    "import os\n",
    "\n",
    "from helpers_vizualisation import eval_knn_proportions\n",
    "from helpers_vizualisation import plot_tsne\n",
    "from helpers_vizualisation import plot_umap\n",
    "\n",
    "from data_loader import load_data_basic, normalize\n",
    "\n",
    "from autoencoder_gan import GAN"
   ]
  },
  {
   "cell_type": "code",
   "execution_count": null,
   "metadata": {},
   "outputs": [],
   "source": [
    "############# DATA LOADING ############# "
   ]
  },
  {
   "cell_type": "code",
   "execution_count": null,
   "metadata": {},
   "outputs": [],
   "source": [
    "path = os.getcwd()\n",
    "path = path+'/toy_data_gamma_small.parquet' # '/toy_data_gamma_large.parquet'\n",
    "x1_train, x1_test, x2_train, x2_test = load_data_basic(path, patient='sample1', batch_names = ['batch1', 'batch2'], seed=42,\n",
    "                                                      n_cells_to_select=0)"
   ]
  },
  {
   "cell_type": "code",
   "execution_count": null,
   "metadata": {},
   "outputs": [],
   "source": [
    "#############    MODEL     #############"
   ]
  },
  {
   "cell_type": "code",
   "execution_count": null,
   "metadata": {},
   "outputs": [],
   "source": [
    "gan = GAN(x1_train.shape[1])\n",
    "#gan.train(x1, x2, epochs=30000, batch_size=64, sample_interval=200)\n",
    "gan.train(x1_train, x2_train, epochs=3000, batch_size=64, sample_interval=200)"
   ]
  },
  {
   "cell_type": "code",
   "execution_count": null,
   "metadata": {},
   "outputs": [],
   "source": [
    "############# VISUALIZATIONS ############# "
   ]
  },
  {
   "cell_type": "code",
   "execution_count": null,
   "metadata": {},
   "outputs": [],
   "source": [
    "x1_train_transformed = gan.transform_batch(x1_train)"
   ]
  },
  {
   "cell_type": "code",
   "execution_count": null,
   "metadata": {},
   "outputs": [],
   "source": [
    "f = 5\n",
    "plt.figure()\n",
    "plt.hist(x2_train.values[:, f])\n",
    "plt.figure()\n",
    "plt.hist(x1_train.values[:, f])\n",
    "plt.figure()\n",
    "plt.hist(x1_train_transformed.values[:, f])"
   ]
  },
  {
   "cell_type": "code",
   "execution_count": null,
   "metadata": {},
   "outputs": [],
   "source": [
    "x_train = pd.concat([x1_train, x1_train_transformed])\n",
    "plot_tsne(x_train, do_pca=True, n_plots=2, iter_=500, pca_components=20)\n",
    "\n",
    "x_train = pd.concat([x1_train, x2_train])\n",
    "plot_tsne(x_train, do_pca=True, n_plots=2, iter_=500, pca_components=20)\n",
    "\n",
    "x_train = pd.concat([x1_train_transformed, x2_train])\n",
    "plot_tsne(x_train, do_pca=True, n_plots=2, iter_=500, pca_components=20)"
   ]
  },
  {
   "cell_type": "code",
   "execution_count": null,
   "metadata": {},
   "outputs": [],
   "source": [
    "plot_umap(pd.concat([x1_train, x2_train]))\n",
    "plot_umap(pd.concat([x1_train_transformed, x2_train]))"
   ]
  },
  {
   "cell_type": "code",
   "execution_count": null,
   "metadata": {},
   "outputs": [],
   "source": [
    "#eval_knn_proportions(x1_test)"
   ]
  }
 ],
 "metadata": {
  "kernelspec": {
   "display_name": "Python 3",
   "language": "python",
   "name": "python3"
  },
  "language_info": {
   "codemirror_mode": {
    "name": "ipython",
    "version": 3
   },
   "file_extension": ".py",
   "mimetype": "text/x-python",
   "name": "python",
   "nbconvert_exporter": "python",
   "pygments_lexer": "ipython3",
   "version": "3.7.3"
  }
 },
 "nbformat": 4,
 "nbformat_minor": 4
}
