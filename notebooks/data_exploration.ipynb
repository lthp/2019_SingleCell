{
 "cells": [
  {
   "cell_type": "code",
   "execution_count": null,
   "metadata": {},
   "outputs": [],
   "source": [
    "import warnings\n",
    "import pdb\n",
    "import os\n",
    "import re\n",
    "import sys\n",
    "import imp\n",
    "import numpy as np\n",
    "import scipy as sp\n",
    "import pandas as pd\n",
    "import matplotlib\n",
    "import matplotlib.pyplot as plt\n",
    "import seaborn as sns\n",
    "import itertools\n",
    "import functools\n",
    "from functools import reduce\n",
    "from collections import Counter\n",
    "import pyarrow as pa\n",
    "import pyarrow.parquet as pq\n",
    "from collections import Counter\n",
    "from sklearn import preprocessing\n",
    "from sklearn.manifold import TSNE\n",
    "from sklearn.decomposition import PCA\n",
    "from sklearn.neighbors import NearestNeighbors\n",
    "import umap\n",
    "reducer = umap.UMAP()\n",
    "import matplotlib.cm as cm\n",
    "\n",
    "import scipy\n",
    "from sklearn.model_selection import train_test_split\n",
    "from sklearn.preprocessing import StandardScaler\n",
    "from sklearn.neighbors import KNeighborsClassifier\n",
    "from sklearn.metrics import classification_report, confusion_matrix\n",
    "\n",
    "# to work with anndata\n",
    "import anndata\n",
    "import scanpy as sc\n"
   ]
  },
  {
   "cell_type": "code",
   "execution_count": null,
   "metadata": {},
   "outputs": [],
   "source": [
    "sys.path.append(os.path.dirname(os.getcwd()))\n",
    "from baselines.baselines_helpers import scale, convert_to_ann\n",
    "from visualisation_and_evaluation.helpers_vizualisation import plot_tsne, plot_umap"
   ]
  },
  {
   "cell_type": "code",
   "execution_count": null,
   "metadata": {},
   "outputs": [],
   "source": [
    "wd = os.getcwd()\n",
    "wd = os.path.abspath(os.path.join(wd,\"..\",\"..\",\"data\"))"
   ]
  },
  {
   "cell_type": "code",
   "execution_count": null,
   "metadata": {},
   "outputs": [],
   "source": [
    "#################   simulated data   ###############"
   ]
  },
  {
   "cell_type": "code",
   "execution_count": null,
   "metadata": {},
   "outputs": [],
   "source": [
    "######  all cell populations shared  ######"
   ]
  },
  {
   "cell_type": "code",
   "execution_count": null,
   "metadata": {},
   "outputs": [],
   "source": [
    "data_path = wd+'/simulated/'\n",
    "df_sim = pd.read_parquet(data_path+'toy_data_gamma_w_index.parquet')\n",
    "adata_sim = convert_to_ann(df_sim)\n",
    "\n",
    "# dim reduction\n",
    "sc.tl.pca(adata_sim)\n",
    "# plots\n",
    "sc.pl.pca(adata_sim, color='cell_type', title='PCA: toy data', return_fig=True)\n",
    "plt.savefig(data_path+'/plots/pca_sim_celltypes.png', dpi=300, bbox_inches='tight')\n",
    "sc.pl.pca(adata_sim, color='batch', title='PCA: toy data', return_fig=True)\n",
    "plt.savefig(data_path+'/plots/pca_sim_batches.png', dpi=300, bbox_inches='tight')\n"
   ]
  },
  {
   "cell_type": "code",
   "execution_count": null,
   "metadata": {},
   "outputs": [],
   "source": [
    "######  some cell populations shared  ######\n",
    "data_path = wd+'/simulated/'\n",
    "df_sim = pd.read_parquet(data_path+'toy_data_gamma_w_index_subset.parquet')\n",
    "adata_sim = convert_to_ann(df_sim)\n",
    "\n",
    "# dim reduction\n",
    "sc.tl.pca(adata_sim)\n",
    "# plots\n",
    "sc.pl.pca(adata_sim, color='cell_type', title='PCA: toy data (subset)', return_fig=True)\n",
    "plt.savefig(data_path+'/plots/pca_sim_subset_celltypes.png', dpi=300, bbox_inches='tight')\n",
    "sc.pl.pca(adata_sim, color='batch', title='PCA: toy data (subset)', return_fig=True)\n",
    "plt.savefig(data_path+'/plots/pca_sim_subset_batches.png', dpi=300, bbox_inches='tight')\n"
   ]
  },
  {
   "cell_type": "code",
   "execution_count": null,
   "metadata": {},
   "outputs": [],
   "source": [
    "####################  Chevrier data  ###################"
   ]
  },
  {
   "cell_type": "code",
   "execution_count": null,
   "metadata": {},
   "outputs": [],
   "source": [
    "data_path = wd+'/Dataset5/'\n",
    "df_full = pd.read_parquet(data_path+'chevrier_data_pooled_full_panels.parquet')\n",
    "df_full = df_full.dropna(axis=1)\n",
    "adata_full = convert_to_ann(df_full)\n",
    "\n",
    "# dim reduction\n",
    "sc.tl.pca(adata_full)\n",
    "# plots\n",
    "sc.pl.pca(adata_full, color='cell_type', title='PCA: Chevrier data', return_fig=True)\n",
    "plt.savefig(data_path+'/plots/pca_full_celltypes.png', dpi=300, bbox_inches='tight')\n",
    "sc.pl.pca(adata_full, color='batch', title='PCA: Chevrier data', return_fig=True)\n",
    "plt.savefig(data_path+'/plots/pca_full_batches.png', dpi=300, bbox_inches='tight')\n"
   ]
  },
  {
   "cell_type": "code",
   "execution_count": null,
   "metadata": {},
   "outputs": [],
   "source": [
    "### only selected samples\n",
    "samples_selected = ['sample5','sample75','sample65']\n",
    "adata_selected = adata_full[adata_full.obs['sample'].isin(samples_selected),:].copy()\n",
    "# dim reduction\n",
    "sc.tl.pca(adata_selected)\n",
    "# plots\n",
    "sc.pl.pca(adata_selected, color='cell_type', title='PCA: Chevrier data \\n selected samples', return_fig=True)\n",
    "plt.savefig(data_path+'/plots/pca_full_selected_celltypes.png', dpi=300, bbox_inches='tight')\n",
    "sc.pl.pca(adata_selected, color='batch', title='PCA: Chevrier data \\n selected samples', return_fig=True)\n",
    "plt.savefig(data_path+'/plots/pca_full_selected_batches.png', dpi=300, bbox_inches='tight')\n"
   ]
  },
  {
   "cell_type": "code",
   "execution_count": null,
   "metadata": {},
   "outputs": [],
   "source": [
    "# sc.tl.tsne(adata_selected)\n",
    "# sc.pl.tsne(adata_selected, color='cell-type', title='tSNE: Chevrier data \\n selected samples')\n",
    "# sc.pl.tsne(adata_selected, color='batch', title='tSNE: Chevrier data \\n selected samples')\n"
   ]
  },
  {
   "cell_type": "code",
   "execution_count": null,
   "metadata": {},
   "outputs": [],
   "source": [
    "########## alternative plotting functions ############\n",
    "def plot_tsne(data, do_pca=True, n_plots=2, iter_=500, pca_components=20, save_as=None, folder_name='figures',\n",
    "             random_state=345):\n",
    "    ''' \n",
    "    Function to generate t-sne plot \n",
    "    inputs: \n",
    "        data: cell x markers: has the labels as index!! eg. Data23_Panel1_tx_NR4_Patient9\n",
    "        do_pca: performs pca prior to t-sne, no downsampling there\n",
    "        n_plots: Tries different perplexity values, \n",
    "        iter_ : fitting \n",
    "        pca_components: PCs\n",
    "    '''\n",
    "    np.random.seed(random_state)\n",
    "    Labels = list(data.index)\n",
    "    if do_pca: \n",
    "        pca = PCA(n_components=pca_components, random_state=random_state)\n",
    "        data = pca.fit_transform(data)\n",
    "    for i in range(n_plots):\n",
    "        perplexity_ = 10* (i + 1)\n",
    "        tsne = TSNE(n_components=2,verbose=1,perplexity=perplexity_,n_iter=iter_, random_state=random_state)\n",
    "        X_tsne = tsne.fit_transform(data)\n",
    "        Xf = pd.DataFrame(X_tsne)\n",
    "        Xf.columns = [\"t-sne1\", \"t-sne2\"]\n",
    "        Xf['labels'] = Labels\n",
    "        tsne_plot = sns.lmplot(\"t-sne1\", \"t-sne2\", hue=\"labels\",data=Xf, fit_reg=False, scatter_kws={'alpha': 0.1})\n",
    "        plt.title('Plot: t-SNE projection of the dataset perplexity = {}, iter = {}'.format(perplexity_, iter_), fontsize=15)\n",
    "        if save_as is not None:\n",
    "            plt.savefig(os.path.join(folder_name, save_as+'_p'+str(perplexity_)))\n",
    "            plt.close()\n",
    "        else:\n",
    "            #plt.show()\n",
    "            tsne_plot\n",
    "\n",
    "def scale(x):\n",
    "    p99 = np.percentile(x,99)\n",
    "    x[x>p99] = p99\n",
    "    x = (x - np.min(x)) / (np.max(x) - np.min(x))\n",
    "    return(x)\n",
    "\n",
    "def prep_for_tsne(data, max_cells=0, random_state=345, split_by='celltype'):\n",
    "    df = data.copy()\n",
    "    np.random.seed(random_state)\n",
    "    if(max_cells>0):\n",
    "        #df['metadata_number'] = range(df.shape[0])\n",
    "        #selected_cells = df.loc[:,['metadata_'+split_by,'metadata_number']].groupby('metadata_'+split_by,group_keys=False).apply(lambda x: x.sample(min(len(x),max_cells)))\n",
    "        #df = df.iloc[selected_cells['metadata_number'],:]\n",
    "        selected_cells = np.random.choice(df.shape[0], size=max_cells, replace=False)\n",
    "        df = df.iloc[selected_cells,:]\n",
    "    df = df.loc[:,~df.columns.str.startswith('metadata')]\n",
    "    if(split_by=='celltype'):\n",
    "        cts = [x.split('_')[-1].split(split_by)[-1] for x in list(df.index)]\n",
    "    elif(split_by=='batch'):\n",
    "        cts = [x.split('_')[0] for x in list(df.index)]\n",
    "    df.index = cts\n",
    "    df = df.apply(lambda x: scale(x), axis=0)\n",
    "    return(df)\n"
   ]
  },
  {
   "cell_type": "code",
   "execution_count": null,
   "metadata": {},
   "outputs": [],
   "source": [
    "data_path = wd+'/Dataset5/'\n",
    "df_full = pd.read_parquet(data_path+'chevrier_data_pooled_full_panels.parquet')\n",
    "\n",
    "tam_df = df_full.loc[df_full['metadata_panel']=='tam_panel',:]\n",
    "print(tam_df.shape)\n",
    "tam_df = tam_df.dropna(axis=1)\n",
    "max_cells = int(tam_df.shape[0]/100)\n",
    "tam_df = prep_for_tsne(tam_df, max_cells=max_cells)\n",
    "print(tam_df.shape)\n",
    "\n",
    "tcell_df = df_full.loc[df_full['metadata_panel']=='tcell_panel',:]\n",
    "print(tcell_df.shape)\n",
    "tcell_df = tcell_df.dropna(axis=1)\n",
    "max_cells = int(tcell_df.shape[0]/100)\n",
    "tcell_df = prep_for_tsne(tcell_df, max_cells=max_cells)\n",
    "print(tcell_df.shape)\n",
    "\n",
    "plot_tsne(tam_df, n_plots=1)\n",
    "plt.savefig(data_path+'/plots/tsne_tam_panel_full_celltypes.png', bbox_inches='tight')\n",
    "plot_tsne(tcell_df, n_plots=1)\n",
    "plt.savefig(data_path+'/plots/tsne_tcell_panel_full_celltypes.png', bbox_inches='tight')"
   ]
  },
  {
   "cell_type": "code",
   "execution_count": null,
   "metadata": {},
   "outputs": [],
   "source": [
    "data_path = wd+'/Dataset5/'\n",
    "df_full = pd.read_parquet(data_path+'chevrier_data_pooled_full_panels.parquet')\n",
    "df_full = df_full.dropna(axis=1)\n",
    "max_cells = int(df_full.shape[0]/100)\n",
    "df_full = prep_for_tsne(df_full, split_by='batch', max_cells = max_cells)\n",
    "\n",
    "plot_tsne(df_full, n_plots=1, pca_components=6)\n",
    "plt.savefig(data_path+'/plots/tsne_both_panels_full_batch.png', bbox_inches='tight')"
   ]
  },
  {
   "cell_type": "code",
   "execution_count": null,
   "metadata": {},
   "outputs": [],
   "source": [
    "data_path = wd+'/Dataset5/'\n",
    "df_full = pd.read_parquet(data_path+'chevrier_data_pooled_full_panels.parquet')\n",
    "df_full = df_full.dropna(axis=1)\n",
    "max_cells = int(df_full.shape[0]/100)\n",
    "df_full = prep_for_tsne(df_full, split_by='celltype', max_cells=max_cells)\n",
    "\n",
    "plot_tsne(df_full, n_plots=1, pca_components=6)\n",
    "plt.savefig(data_path+'/plots/tsne_both_panels_full_celltype.png', bbox_inches='tight')"
   ]
  },
  {
   "cell_type": "code",
   "execution_count": null,
   "metadata": {},
   "outputs": [],
   "source": [
    "data_path = wd+'/Dataset5/'\n",
    "df_sel = pd.read_parquet(data_path+'chevrier_data_pooled_full_panels.parquet')\n",
    "df_sel = df_sel.dropna(axis=1)\n",
    "df_sel = df_sel.loc[df_sel['metadata_sample'].isin(samples_selected),:]\n",
    "\n",
    "\n",
    "tam_df = df_sel.loc[df_sel['metadata_panel']=='tam_panel',:]\n",
    "print(tam_df.shape)\n",
    "tam_df = tam_df.dropna(axis=1)\n",
    "max_cells = int(tam_df.shape[0]/10)\n",
    "tam_df = prep_for_tsne(tam_df, max_cells=max_cells)\n",
    "print(tam_df.shape)\n",
    "\n",
    "tcell_df = df_sel.loc[df_sel['metadata_panel']=='tcell_panel',:]\n",
    "print(tcell_df.shape)\n",
    "tcell_df = tcell_df.dropna(axis=1)\n",
    "max_cells = int(tcell_df.shape[0]/10)\n",
    "tcell_df = prep_for_tsne(tcell_df, max_cells=max_cells)\n",
    "print(tcell_df.shape)\n",
    "\n",
    "plot_tsne(tam_df, n_plots=1, pca_components=6)\n",
    "plt.savefig(data_path+'/plots/tsne_tam_panel_sel.png', bbox_inches='tight')\n",
    "plot_tsne(tcell_df, n_plots=1, pca_components=6)\n",
    "plt.savefig(data_path+'/plots/tsne_tcell_panel_sel.png', bbox_inches='tight')"
   ]
  },
  {
   "cell_type": "code",
   "execution_count": null,
   "metadata": {},
   "outputs": [],
   "source": [
    "samples_selected = ['sample5','sample75','sample65']\n",
    "data_path = wd+'/Dataset5/'\n",
    "df_sel = pd.read_parquet(data_path+'chevrier_data_pooled_full_panels.parquet')\n",
    "df_sel = df_sel.dropna(axis=1)\n",
    "df_sel = df_sel.loc[df_sel['metadata_sample'].isin(samples_selected),:]\n",
    "max_cells = int(df_sel.shape[0]/10)\n",
    "df_sel = prep_for_tsne(df_sel, split_by='batch', max_cells=max_cells)\n",
    "\n",
    "plot_tsne(df_sel, n_plots=1, pca_components=6)\n",
    "plt.savefig(data_path+'/plots/tsne_both_panels_sel_batch.png', bbox_inches='tight')"
   ]
  },
  {
   "cell_type": "code",
   "execution_count": null,
   "metadata": {},
   "outputs": [],
   "source": [
    "samples_selected = ['sample5','sample75','sample65']\n",
    "data_path = wd+'/Dataset5/'\n",
    "df_sel = pd.read_parquet(data_path+'chevrier_data_pooled_full_panels.parquet')\n",
    "df_sel = df_sel.dropna(axis=1)\n",
    "df_sel = df_sel.loc[df_sel['metadata_sample'].isin(samples_selected),:]\n",
    "max_cells = int(df_sel.shape[0]/10)\n",
    "df_sel = prep_for_tsne(df_sel, split_by='celltype', max_cells=max_cells)\n",
    "\n",
    "plot_tsne(df_sel, n_plots=1, pca_components=6)\n",
    "plt.savefig(data_path+'/plots/tsne_both_panels_sel_celltype.png', bbox_inches='tight')"
   ]
  }
 ],
 "metadata": {
  "kernelspec": {
   "display_name": "Python (dl)",
   "language": "python",
   "name": "dl"
  },
  "language_info": {
   "codemirror_mode": {
    "name": "ipython",
    "version": 3
   },
   "file_extension": ".py",
   "mimetype": "text/x-python",
   "name": "python",
   "nbconvert_exporter": "python",
   "pygments_lexer": "ipython3",
   "version": "3.7.4"
  }
 },
 "nbformat": 4,
 "nbformat_minor": 2
}
