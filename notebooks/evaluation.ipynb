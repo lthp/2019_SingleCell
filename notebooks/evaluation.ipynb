{
 "cells": [
  {
   "cell_type": "code",
   "execution_count": null,
   "metadata": {},
   "outputs": [],
   "source": [
    "import numpy as np\n",
    "import pandas as pd\n",
    "import os \n",
    "import glob\n",
    "import pdb\n",
    "import matplotlib.pyplot as plt\n",
    "import matplotlib.gridspec as gridspec\n",
    "import seaborn as sns\n",
    "import scipy as sp\n",
    "from scipy.special import expit\n",
    "import sys"
   ]
  },
  {
   "cell_type": "code",
   "execution_count": null,
   "metadata": {},
   "outputs": [],
   "source": [
    "sys.path.append(os.path.dirname(os.getcwd()))\n",
    "from visualisation_and_evaluation.helpers_eval import extract_scores, wa, select_best_run\n",
    "from visualisation_and_evaluation.helpers_vizualisation import plot_scores"
   ]
  },
  {
   "cell_type": "code",
   "execution_count": null,
   "metadata": {},
   "outputs": [],
   "source": [
    "wd = os.getcwd()\n",
    "path_scores = os.path.abspath(os.path.join(wd,\"..\",\"..\",\"data/Dataset5/eval_scores\"))\n",
    "\n",
    "files = [x for x in os.listdir(path_scores) if 'full' in x and 'score' in x]\n",
    "selection_method = 'wa' #'wa' (weighted average), 'div' (based on divergence score only)\n",
    "eval_all = pd.read_csv(path_scores+'scores_baselines_full.csv', index_col=[0])\n",
    "eval_all['silhouette_score_neg'] = -eval_all['silhouette_score']\n",
    "for fname in files:\n",
    "    if(fname == 'scores_baselines_full.csv'):\n",
    "        continue\n",
    "    df = extract_scores(path_scores, fname)\n",
    "    # select \"the best run\"\n",
    "    df_best = select_best_run(df, method=selection_method)\n",
    "    df_best = df_best.loc[:,eval_all.columns]\n",
    "    eval_all = eval_all.append(df_best)\n",
    "eval_all = eval_all.sort_values(['sample', 'method']).reset_index(drop=True)\n"
   ]
  },
  {
   "cell_type": "code",
   "execution_count": null,
   "metadata": {},
   "outputs": [],
   "source": [
    "# add the weighted averaged score\n",
    "eval_all['wa'] = eval_all[['divergence_score', 'entropy_score', 'silhouette_score_neg']].apply(lambda x: wa(x), axis=1)\n",
    "eval_all\n"
   ]
  },
  {
   "cell_type": "code",
   "execution_count": null,
   "metadata": {},
   "outputs": [],
   "source": [
    "### plot scores\n",
    "f, axes = plt.subplots(1, 2, figsize=[10,4], sharex=True)\n",
    "plot_scores(eval_all, xcol='divergence_score', ycol='entropy_score',ax = axes[0], legend=False)\n",
    "plot_scores(eval_all, xcol='divergence_score', ycol='silhouette_score_neg',ax = axes[1])\n",
    "# plt.savefig(os.path.join(path_scores, \n",
    "#                          'summary_scores_all_samples.png'),  bbox_inches='tight')\n",
    "\n",
    "eval_sample5 = eval_all.loc[eval_all['sample']=='sample5',:]\n",
    "title5 = 'Evaluation scores: sample5'\n",
    "f, axes = plt.subplots(1, 2, figsize=[10,4], sharex=True)\n",
    "plot_scores(eval_sample5, xcol='divergence_score', ycol='entropy_score', title=title5, ax = axes[0], legend=False)\n",
    "plot_scores(eval_sample5, xcol='divergence_score', ycol='silhouette_score_neg', title=title5, ax = axes[1])"
   ]
  },
  {
   "cell_type": "code",
   "execution_count": null,
   "metadata": {},
   "outputs": [],
   "source": [
    "score_plot = sns.scatterplot(x='method', y='wa', data=eval_all,\n",
    "                hue = 'method', style='sample', legend='brief', ax = None)\n",
    "handles, names = score_plot.get_legend_handles_labels()\n",
    "score_plot.legend(handles, names, bbox_to_anchor=(1.05, 1), loc=2, borderaxespad=0.)\n",
    "score_plot.set_xticks([])\n",
    "score_plot.set_ylabel('Weighted average of scores')\n",
    "#score_plot.set_xticklabels(sp.unique(eval_all['method']), rotation=90)\n",
    "plt.savefig(os.path.join(path_scores, \n",
    "                         'summary_scores_all_samples_wa.png'),  bbox_inches='tight')"
   ]
  }
 ],
 "metadata": {
  "kernelspec": {
   "display_name": "Python (dl)",
   "language": "python",
   "name": "dl"
  },
  "language_info": {
   "codemirror_mode": {
    "name": "ipython",
    "version": 3
   },
   "file_extension": ".py",
   "mimetype": "text/x-python",
   "name": "python",
   "nbconvert_exporter": "python",
   "pygments_lexer": "ipython3",
   "version": "3.7.4"
  }
 },
 "nbformat": 4,
 "nbformat_minor": 2
}
