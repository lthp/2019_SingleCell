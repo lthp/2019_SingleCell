{
 "cells": [
  {
   "cell_type": "code",
   "execution_count": 5,
   "metadata": {},
   "outputs": [],
   "source": [
    "import numpy as np\n",
    "import matplotlib.pyplot as plt\n",
    "import pandas as pd\n",
    "import pyarrow as pa\n",
    "import pyarrow.parquet as pq\n",
    "from scipy.stats import norm\n",
    "from sklearn.model_selection import train_test_split\n",
    "\n",
    "import tensorflow as tf \n",
    "from tensorflow.python.keras.layers import Input, Dense, Lambda, Flatten, Reshape, Concatenate\n",
    "from tensorflow.python.keras.layers import Conv2D, Conv2DTranspose, BatchNormalization, Activation, LeakyReLU\n",
    "from tensorflow.python.keras.models import Model\n",
    "import tensorflow.keras.backend as K\n",
    "from tensorflow.python.keras import metrics\n",
    "from tensorflow.python.keras.callbacks import ModelCheckpoint, LearningRateScheduler\n",
    "from tensorflow.python.keras.datasets import mnist\n",
    "from tensorflow.python.keras.models import Sequential, Model\n",
    "from tensorflow.python.keras.optimizers import Adam\n",
    "\n",
    "import pdb\n",
    "import os\n",
    "\n",
    "from train_model_template.helpers_vizualisation import eval_knn_proportions\n",
    "from train_model_template.helpers_vizualisation import plot_tsne\n",
    "from train_model_template.helpers_vizualisation import plot_umap\n"
   ]
  },
  {
   "cell_type": "code",
   "execution_count": 6,
   "metadata": {},
   "outputs": [],
   "source": [
    "from __future__ import print_function, division\n",
    "\n",
    "from sklearn.model_selection import train_test_split\n",
    "from tensorflow.keras.datasets import mnist\n",
    "from tensorflow.keras.layers import Input, Dense, Reshape, Flatten, Dropout, LeakyReLU\n",
    "from tensorflow.keras.layers import BatchNormalization, Activation, ZeroPadding2D\n",
    "from tensorflow.keras.models import Sequential, Model\n",
    "from tensorflow.keras.optimizers import Adam\n",
    "import matplotlib.pyplot as plt\n",
    "import numpy as np\n",
    "import pandas as pd\n",
    "from tensorflow.keras.optimizers import SGD\n",
    "\n"
   ]
  },
  {
   "cell_type": "code",
   "execution_count": 7,
   "metadata": {},
   "outputs": [],
   "source": [
    "# note: after discussion last time the data has one concatanated index with all the information\n",
    "def load_data_basic(path, patient='sample1', batch_names = ['batch1', 'batch2'], seed=42,\n",
    "                   n_cells_to_select = 500):\n",
    "    \"\"\"\n",
    "    Function to load data and split into 2 inputs with train and test sets\n",
    "    inputs:\n",
    "        path: path to the data file\n",
    "        patient: name of the patient to consider\n",
    "        batch_names: a list of batch names to split the data\n",
    "        n_cells_to_select: number of cells to select for quicker runs, if 0 then all cells are selected\n",
    "    outputs:\n",
    "        x1_train, x1_test: train and test sets form the first batch\n",
    "        x2_train, x2_test: train and test sets form the second batch    \n",
    "    \"\"\"\n",
    "    df = pd.read_parquet(path, engine='pyarrow')\n",
    "    selected_cols = [col for col in df.columns if not \"metadata\" in col]\n",
    "    df = df.loc[:,selected_cols]\n",
    "    idx = df.index.get_values()\n",
    "    x1_idx = [x for x in idx if patient in x and batch_names[0] in x and patient+'0' not in x][0]\n",
    "    x1 = df.loc[x1_idx,:].copy()\n",
    "    x2_idx = [x for x in idx if patient in x and batch_names[1] in x and patient+'0' not in x][0]\n",
    "    x2 = df.loc[x2_idx,:].copy()\n",
    "    if(n_cells_to_select>0):\n",
    "        cells_to_select = np.random.uniform(0,x1.shape[0], n_cells_to_select)\n",
    "        x1 = x1.iloc[cells_to_select, :]\n",
    "        cells_to_select = np.random.uniform(0,x2.shape[0], n_cells_to_select)\n",
    "        x2 = x2.iloc[cells_to_select, :]\n",
    "    x1_train, x1_test = train_test_split(x1, test_size=0.2, random_state=42)\n",
    "    x2_train, x2_test = train_test_split(x2, test_size=0.2, random_state=42)\n",
    "    return(x1_train, x1_test, x2_train, x2_test)\n"
   ]
  },
  {
   "cell_type": "code",
   "execution_count": 4,
   "metadata": {},
   "outputs": [],
   "source": [
    "############# DATA LOADING ############# "
   ]
  },
  {
   "cell_type": "code",
   "execution_count": 8,
   "metadata": {},
   "outputs": [],
   "source": [
    "path = '/Users/laurieprelot/Documents/Projects/2019_Deep_learning/data/simulated'"
   ]
  },
  {
   "cell_type": "code",
   "execution_count": 9,
   "metadata": {},
   "outputs": [],
   "source": [
    "#path = os.getcwd()\n",
    "path = os.path.join(path,'toy_data_gamma_small.parquet') # '/toy_data_gamma_large.parquet'\n",
    "x1_train, x1_test, x2_train, x2_test = load_data_basic(path, patient='sample1', batch_names = ['batch1', 'batch2'], seed=42,\n",
    "                                                      n_cells_to_select=0)"
   ]
  },
  {
   "cell_type": "code",
   "execution_count": 10,
   "metadata": {
    "scrolled": true
   },
   "outputs": [
    {
     "data": {
      "text/html": [
       "<div>\n",
       "<style scoped>\n",
       "    .dataframe tbody tr th:only-of-type {\n",
       "        vertical-align: middle;\n",
       "    }\n",
       "\n",
       "    .dataframe tbody tr th {\n",
       "        vertical-align: top;\n",
       "    }\n",
       "\n",
       "    .dataframe thead th {\n",
       "        text-align: right;\n",
       "    }\n",
       "</style>\n",
       "<table border=\"1\" class=\"dataframe\">\n",
       "  <thead>\n",
       "    <tr style=\"text-align: right;\">\n",
       "      <th></th>\n",
       "      <th>X1</th>\n",
       "      <th>X2</th>\n",
       "      <th>X3</th>\n",
       "      <th>X4</th>\n",
       "      <th>X5</th>\n",
       "      <th>X6</th>\n",
       "      <th>X7</th>\n",
       "      <th>X8</th>\n",
       "      <th>X9</th>\n",
       "      <th>X10</th>\n",
       "      <th>X11</th>\n",
       "      <th>X12</th>\n",
       "      <th>X13</th>\n",
       "      <th>X14</th>\n",
       "      <th>X15</th>\n",
       "      <th>X16</th>\n",
       "      <th>X17</th>\n",
       "      <th>X18</th>\n",
       "      <th>X19</th>\n",
       "      <th>X20</th>\n",
       "    </tr>\n",
       "  </thead>\n",
       "  <tbody>\n",
       "    <tr>\n",
       "      <th>batch2_sample1</th>\n",
       "      <td>3.832489</td>\n",
       "      <td>23.855709</td>\n",
       "      <td>20.957669</td>\n",
       "      <td>13.850738</td>\n",
       "      <td>5.346237</td>\n",
       "      <td>13.745676</td>\n",
       "      <td>9.121335</td>\n",
       "      <td>4.727064</td>\n",
       "      <td>24.253307</td>\n",
       "      <td>13.054695</td>\n",
       "      <td>5.849181</td>\n",
       "      <td>8.009699</td>\n",
       "      <td>17.438050</td>\n",
       "      <td>16.503502</td>\n",
       "      <td>19.035658</td>\n",
       "      <td>11.756811</td>\n",
       "      <td>5.608161</td>\n",
       "      <td>12.270049</td>\n",
       "      <td>25.371968</td>\n",
       "      <td>18.183235</td>\n",
       "    </tr>\n",
       "    <tr>\n",
       "      <th>batch2_sample1</th>\n",
       "      <td>9.880713</td>\n",
       "      <td>19.073916</td>\n",
       "      <td>9.783921</td>\n",
       "      <td>9.450616</td>\n",
       "      <td>12.093096</td>\n",
       "      <td>20.737565</td>\n",
       "      <td>10.190262</td>\n",
       "      <td>16.931007</td>\n",
       "      <td>7.790722</td>\n",
       "      <td>12.898835</td>\n",
       "      <td>5.941291</td>\n",
       "      <td>7.150282</td>\n",
       "      <td>6.722189</td>\n",
       "      <td>12.026421</td>\n",
       "      <td>11.565301</td>\n",
       "      <td>15.018530</td>\n",
       "      <td>15.153351</td>\n",
       "      <td>17.272597</td>\n",
       "      <td>13.159564</td>\n",
       "      <td>18.601612</td>\n",
       "    </tr>\n",
       "    <tr>\n",
       "      <th>batch2_sample1</th>\n",
       "      <td>29.390741</td>\n",
       "      <td>15.564417</td>\n",
       "      <td>31.965034</td>\n",
       "      <td>4.538834</td>\n",
       "      <td>30.589117</td>\n",
       "      <td>31.846044</td>\n",
       "      <td>20.944043</td>\n",
       "      <td>26.212574</td>\n",
       "      <td>9.940314</td>\n",
       "      <td>4.063715</td>\n",
       "      <td>21.073096</td>\n",
       "      <td>10.262750</td>\n",
       "      <td>10.113188</td>\n",
       "      <td>14.644070</td>\n",
       "      <td>19.904254</td>\n",
       "      <td>8.397279</td>\n",
       "      <td>6.585889</td>\n",
       "      <td>10.377389</td>\n",
       "      <td>15.181359</td>\n",
       "      <td>9.731903</td>\n",
       "    </tr>\n",
       "    <tr>\n",
       "      <th>batch2_sample1</th>\n",
       "      <td>7.268105</td>\n",
       "      <td>32.187670</td>\n",
       "      <td>11.552404</td>\n",
       "      <td>7.727870</td>\n",
       "      <td>13.536621</td>\n",
       "      <td>8.073538</td>\n",
       "      <td>8.521434</td>\n",
       "      <td>14.003197</td>\n",
       "      <td>32.326215</td>\n",
       "      <td>10.748061</td>\n",
       "      <td>15.234809</td>\n",
       "      <td>13.070618</td>\n",
       "      <td>6.047054</td>\n",
       "      <td>9.156604</td>\n",
       "      <td>5.196233</td>\n",
       "      <td>6.734580</td>\n",
       "      <td>2.923731</td>\n",
       "      <td>22.819821</td>\n",
       "      <td>19.854966</td>\n",
       "      <td>10.900061</td>\n",
       "    </tr>\n",
       "    <tr>\n",
       "      <th>batch2_sample1</th>\n",
       "      <td>8.486861</td>\n",
       "      <td>15.975259</td>\n",
       "      <td>23.599617</td>\n",
       "      <td>6.066593</td>\n",
       "      <td>7.256278</td>\n",
       "      <td>21.920306</td>\n",
       "      <td>6.767162</td>\n",
       "      <td>17.483637</td>\n",
       "      <td>43.309543</td>\n",
       "      <td>6.089442</td>\n",
       "      <td>8.575041</td>\n",
       "      <td>6.820581</td>\n",
       "      <td>4.242966</td>\n",
       "      <td>12.477840</td>\n",
       "      <td>27.165986</td>\n",
       "      <td>7.559497</td>\n",
       "      <td>5.034593</td>\n",
       "      <td>36.847762</td>\n",
       "      <td>20.213553</td>\n",
       "      <td>6.191045</td>\n",
       "    </tr>\n",
       "  </tbody>\n",
       "</table>\n",
       "</div>"
      ],
      "text/plain": [
       "                       X1         X2         X3         X4         X5  \\\n",
       "batch2_sample1   3.832489  23.855709  20.957669  13.850738   5.346237   \n",
       "batch2_sample1   9.880713  19.073916   9.783921   9.450616  12.093096   \n",
       "batch2_sample1  29.390741  15.564417  31.965034   4.538834  30.589117   \n",
       "batch2_sample1   7.268105  32.187670  11.552404   7.727870  13.536621   \n",
       "batch2_sample1   8.486861  15.975259  23.599617   6.066593   7.256278   \n",
       "\n",
       "                       X6         X7         X8         X9        X10  \\\n",
       "batch2_sample1  13.745676   9.121335   4.727064  24.253307  13.054695   \n",
       "batch2_sample1  20.737565  10.190262  16.931007   7.790722  12.898835   \n",
       "batch2_sample1  31.846044  20.944043  26.212574   9.940314   4.063715   \n",
       "batch2_sample1   8.073538   8.521434  14.003197  32.326215  10.748061   \n",
       "batch2_sample1  21.920306   6.767162  17.483637  43.309543   6.089442   \n",
       "\n",
       "                      X11        X12        X13        X14        X15  \\\n",
       "batch2_sample1   5.849181   8.009699  17.438050  16.503502  19.035658   \n",
       "batch2_sample1   5.941291   7.150282   6.722189  12.026421  11.565301   \n",
       "batch2_sample1  21.073096  10.262750  10.113188  14.644070  19.904254   \n",
       "batch2_sample1  15.234809  13.070618   6.047054   9.156604   5.196233   \n",
       "batch2_sample1   8.575041   6.820581   4.242966  12.477840  27.165986   \n",
       "\n",
       "                      X16        X17        X18        X19        X20  \n",
       "batch2_sample1  11.756811   5.608161  12.270049  25.371968  18.183235  \n",
       "batch2_sample1  15.018530  15.153351  17.272597  13.159564  18.601612  \n",
       "batch2_sample1   8.397279   6.585889  10.377389  15.181359   9.731903  \n",
       "batch2_sample1   6.734580   2.923731  22.819821  19.854966  10.900061  \n",
       "batch2_sample1   7.559497   5.034593  36.847762  20.213553   6.191045  "
      ]
     },
     "execution_count": 10,
     "metadata": {},
     "output_type": "execute_result"
    }
   ],
   "source": [
    "x2_train.head()"
   ]
  },
  {
   "cell_type": "code",
   "execution_count": null,
   "metadata": {},
   "outputs": [],
   "source": []
  },
  {
   "cell_type": "code",
   "execution_count": 11,
   "metadata": {},
   "outputs": [],
   "source": [
    "#############    MODEL     #############"
   ]
  },
  {
   "cell_type": "code",
   "execution_count": 12,
   "metadata": {},
   "outputs": [],
   "source": [
    "### !!!!!\n",
    "class models_gans(tf.keras.Model):  \n",
    "    ''' model_type = generator, discriminator, 'combined'''\n",
    "    def __init__(self, model_type):\n",
    "        super(models_gans, self).__init__(name='')\n",
    "        self.model_type = model_type\n",
    "        self.Dense = {}\n",
    "        for i in [10, 15, 20, 30, 512, 256]:\n",
    "            self.Dense[str(i)] = tf.keras.layers.Dense(i)\n",
    "        self.Lrelu = tf.keras.layers.LeakyReLU(alpha=0.2)\n",
    "        #self.bn = tf.keras.layers.BatchNormalization(momentum=0.8)\n",
    "        self.densetanh = tf.keras.layers.Dense(20, activation='tanh')\n",
    "        self.sigmoid = tf.keras.layers.Dense(1, activation='sigmoid')\n",
    "    \n",
    "    def generator(self, input_tensor, training = True):\n",
    "        x = self.Dense[str(20)](input_tensor)\n",
    "        x = self.Lrelu(x)\n",
    "        x = tf.keras.layers.BatchNormalization(momentum=0.8)(x)\n",
    "        \n",
    "        x = self.Dense[str(15)](x)\n",
    "        x = self.Lrelu(x)\n",
    "        x = tf.keras.layers.BatchNormalization(momentum=0.8)(x)\n",
    "\n",
    "        x = self.Dense[str(10)](x)\n",
    "        x = self.Lrelu(x)\n",
    "        x = tf.keras.layers.BatchNormalization(momentum=0.8)(x)\n",
    "\n",
    "        #x += input_tensor # ADD BACK \n",
    "        \n",
    "        x = self.densetanh(x)\n",
    "        x.trainable = training\n",
    "        return x\n",
    "        \n",
    "    def discriminator(self, input_tensor, training = True):\n",
    "        x = self.Dense[str(512)](input_tensor)\n",
    "        x = self.Lrelu(x)\n",
    "        x = tf.keras.layers.BatchNormalization(momentum=0.8)(x)\n",
    "        \n",
    "        x = self.Dense[str(256)](input_tensor)\n",
    "        x = self.Lrelu(x)\n",
    "        x = tf.keras.layers.BatchNormalization(momentum=0.8)(x)\n",
    "        \n",
    "        x = self.sigmoid(x)\n",
    "        x.trainable  = training\n",
    "        return x\n",
    "        \n",
    "        \n",
    "    def call(self, input_tensor, training = False):\n",
    "        if self.model_type == 'generator':\n",
    "            x = self.generator(input_tensor, training = True)\n",
    "        elif self.model_type == 'discriminator':\n",
    "            x = self.discriminator(input_tensor, training = True)\n",
    "\n",
    "        if self.model_type == 'combined':\n",
    "            x = self.generator(input_tensor, training = False)\n",
    "            x = self.discriminator(x, training = True)\n",
    "        return x"
   ]
  },
  {
   "cell_type": "code",
   "execution_count": null,
   "metadata": {},
   "outputs": [],
   "source": []
  },
  {
   "cell_type": "code",
   "execution_count": 44,
   "metadata": {},
   "outputs": [],
   "source": [
    "### !!!!!\n",
    "class GAN_residuals():\n",
    "    ''' batch1 and batch2 are pandas dataframes with batch 1 and batch 2 respectively and no metadata or index'''\n",
    "    def __init__(self, batch1, batch2):\n",
    "        # batches\n",
    "        self.batch1 = batch1\n",
    "        self.batch2 = batch2\n",
    "        \n",
    "        #parameters \n",
    "        self.data_size = batch1.shape[1]\n",
    "        optimizer = Adam(0.0002, 0.5)\n",
    "     \n",
    "        \n",
    "\n",
    "        # Build and compile the discriminator\n",
    "        self.discriminator = models_gans('discriminator')\n",
    "        #_ = self.discriminator(tf.zeros((1, batch1.shape[1])))\n",
    "        self.discriminator.compile(loss='binary_crossentropy',\n",
    "            optimizer=optimizer,\n",
    "            metrics=['accuracy'])\n",
    "        \n",
    "        # Build the generator\n",
    "        self.generator = models_gans('generator')\n",
    "        #self.generator.compile(loss='binary_crossentropy',\n",
    "        #    optimizer=optimizer,\n",
    "        #    metrics=['accuracy'])\n",
    "        \n",
    "        \n",
    "        \n",
    "        # The generator takes x1 as input and generates gen_x1 (fake x2)\n",
    "        # The combined model  (stacked generator and discriminator)\n",
    "        # Trains the generator to fool the discriminator\n",
    "        x1 = Input(shape=(self.data_size,))\n",
    "        gen_x1 = self.generator(x1)\n",
    "        validity = self.discriminator(gen_x1) \n",
    " \n",
    "        \n",
    "        self.combined = models_gans('combined')\n",
    "        # The combined model  (stacked generator and discriminator)\n",
    "        # Trains the generator to fool the discriminator\n",
    "        _ = self.combined(tf.zeros((1, batch1.shape[1])))\n",
    "        self.combined.compile(loss='binary_crossentropy',\n",
    "        optimizer=optimizer,\n",
    "        metrics=['accuracy'])\n",
    "\n",
    "        \n",
    "    def train(self, epochs, batch_size=128, sample_interval=50):\n",
    "        plot_model = {\"epoch\":[],\"d_loss\":[],\"g_loss\":[]}\n",
    "        x1 = self.batch1.values\n",
    "        x2 = self.batch2.values\n",
    "\n",
    "        # Adversarial ground truths\n",
    "        valid = np.ones((batch_size, 1))\n",
    "        fake = np.zeros((batch_size, 1))\n",
    "\n",
    "        for epoch in range(epochs):\n",
    "\n",
    "            # ---------------------\n",
    "            #  Train Discriminator\n",
    "            # ---------------------\n",
    "\n",
    "            # Select a random batch of x1 and x2\n",
    "            idx = np.random.randint(0, x1.shape[0], batch_size)\n",
    "            x1 = x1[idx]\n",
    "            x2 = x2[idx]\n",
    "\n",
    "            # Generate a batch of new images\n",
    "            gen_x1 = self.generator.predict(x1, verbose = 1)\n",
    "\n",
    "            # Train the discriminator\n",
    "            d_loss_real = self.discriminator.train_on_batch(x2 , valid)\n",
    "            d_loss_fake = self.discriminator.train_on_batch(gen_x1 , fake)\n",
    "            d_loss = 0.5 * np.add(d_loss_real, d_loss_fake)\n",
    "        \n",
    "  \n",
    "\n",
    "            # ---------------------\n",
    "            #  Train Generator\n",
    "            # ---------------------\n",
    "\n",
    "            # Train the generator (to have the discriminator label samples as valid)\n",
    "            g_loss = self.combined.train_on_batch(x1, valid)\n",
    "\n",
    "            # Plot the progress\n",
    "            print (\"%d [D loss: %f, acc.: %.2f%%] [G loss: %f]\" % (epoch, d_loss[0], 100*d_loss[1], g_loss[0]))\n",
    "            plot_model[\"epoch\"].append(epoch)\n",
    "            plot_model[\"d_loss\"].append(d_loss[0])\n",
    "            plot_model[\"g_loss\"].append(g_loss[0])\n",
    "\n",
    "            # If at save interval => save generated image samples\n",
    "            if epoch % sample_interval == 0:\n",
    "                self.sample_x2(epoch, x1)\n",
    "        return plot_model\n",
    "\n",
    "    def sample_x2(self, epoch, x1):\n",
    "        r, c = 5, 5\n",
    "        gen_x2 = self.generator.predict(x1)\n",
    "        # can e.g. save some pca figures of the gen_x2\n",
    "\n"
   ]
  },
  {
   "cell_type": "code",
   "execution_count": 40,
   "metadata": {
    "scrolled": true
   },
   "outputs": [
    {
     "name": "stdout",
     "output_type": "stream",
     "text": [
      "\r",
      "32/32 [==============================] - 0s 2ms/sample\n"
     ]
    },
    {
     "ename": "ValueError",
     "evalue": "('Error when checking model input: expected no data, but got:', array([[22.51983318, 10.39646107, 23.7418161 , 11.69080243, 35.2022957 ,\n        36.1955743 , 14.84535811, 18.47948061, 36.67710726, 12.3604606 ,\n         6.05917779, 10.83859635, 13.99131333, 17.20095391, 17.59008649,\n        20.82754248, 19.89658766, 10.76773757, 15.42470155, 15.09042127],\n       [ 2.01401258,  3.85498322,  7.51764227, 14.75192582,  9.2523446 ,\n        15.23683736,  8.77760878,  8.00209437,  9.98589708, 11.01672311,\n        17.76897375,  7.37967871, 12.45200977, 21.44808596, 10.80188181,\n        25.89342692,  2.88368823, 23.16519907, 13.3151004 , 26.23920743],\n       [14.7052989 ,  6.28765935, 13.18735416,  6.45566872, 20.18000646,\n         7.4097234 , 17.46095286, 14.56252916, 32.34681873,  1.13777909,\n        12.93941907,  4.03973765,  8.17567555,  5.79518348,  9.85062491,\n        17.062065  ,  6.1565323 , 13.97315162, 25.2115813 , 12.22898344],\n       [ 6.16520957, 11.53956367,  8.35955694, 14.029004  , 32.64339579,\n        51.49936064,  6.69976449, 34.80437942, 19.92261379,  2.38822218,\n         2.46155292, 10.96053929, 15.01572826,  9.25672486, 18.70309924,\n        20.20100805, 14.53013425, 17.88305213,  5.66884182, 18.67140497],\n       [15.71858846,  4.72474157, 19.70370861,  3.41902841, 15.11256514,\n        27.64745758,  8.71145598,  6.27640876,  6.00304586,  5.73468152,\n         6.74676774, 17.7952344 ,  8.26074756, 29.73937485, 28.2581841 ,\n        11.55463791,  7.52521339, 10.01255771, 14.22905469,  4.58646071],\n       [ 9.09616245, 15.43244329, 30.37060679, 21.58221907, 10.77722786,\n         5.73458059,  7.04253199,  7.00033916, 22.80039376,  8.6323268 ,\n        14.50549126,  4.53798532,  4.16394989, 21.55962477, 12.13652207,\n         8.23429639,  4.15478341, 37.36356289,  7.59702552, 15.84933113],\n       [36.82156047,  7.26577535, 21.05596807, 12.32111967,  9.94658778,\n         6.64168066, 15.72215281, 10.54413243, 12.02505794,  6.42004175,\n        10.62857117, 25.08815166, 13.5179786 , 24.34453506,  3.7235271 ,\n        12.60377461, 20.6087603 ,  4.64672114,  6.13166898, 20.67035116],\n       [ 4.93330177, 24.5483771 , 33.56482286,  4.1492299 ,  7.50272301,\n        12.98083765,  7.18535749,  8.72947035,  5.48519137,  8.05442618,\n        22.48991951, 27.89648327, 22.83058947, 16.93268572, 15.20296189,\n        23.95301434,  5.34834931, 10.97285642,  8.79289194, 15.88633802],\n       [ 4.48713325, 16.73854771,  5.94030264,  3.58999099, 15.80866839,\n         7.03772334,  7.80552831, 10.78632627,  4.93763393,  6.18742595,\n        15.70794314, 15.70993265, 28.70677389, 19.88417782, 11.25838263,\n        23.57652007, 14.5179491 ,  3.20699905, 21.32367449,  5.3368897 ],\n       [ 8.28795421,  4.09623344, 24.31615897, 15.22299536, 36.89941501,\n        24.09702811, 11.7464519 , 16.33035523, 17.30004743,  9.03242925,\n        12.04778849,  5.9174057 ,  5.70195494, 17.88430256,  9.59449796,\n        28.36343449, 13.40866782, 10.86384846, 13.59490222, 21.07770243],\n       [ 5.17086008, 19.60357178,  7.6565645 , 15.05963834, 45.66396656,\n        16.49015234, 17.20371672, 15.5162304 ,  6.53719179, 19.89451137,\n        10.65384442,  7.26349603, 15.15423183, 18.73191617, 13.05504669,\n        12.25037798,  3.80227967,  8.13765474,  6.85652472,  8.9767905 ],\n       [ 3.66683309, 12.2237506 , 14.02010238,  6.57046905,  7.88193432,\n        12.73572921,  7.76226232, 13.29133114,  6.65843964, 17.54839262,\n        16.91510531,  5.3131338 , 18.68365364, 24.90313931, 18.77260372,\n        14.33378664, 12.40911792, 18.38631599, 27.57808631, 14.4506287 ],\n       [17.56521016, 39.91513886, 16.97921462, 10.21344347, 32.42679248,\n        27.80151689,  2.49930924, 12.34726185,  9.72660447, 18.42109872,\n        26.75222659, 30.4633518 , 21.96672758,  9.22770133, 16.18143584,\n        10.23414957,  5.86196514, 19.87027562, 19.11307723, 15.66362768],\n       [ 2.60070766, 41.68930006, 15.56082412, 16.10890432, 31.76756046,\n        44.07494198,  6.36648302, 11.11820403,  9.61297279, 19.2196827 ,\n        15.79582705, 12.47845069, 17.38306095, 18.28707141, 13.22601785,\n        15.89444784,  6.06896634, 15.51010043, 24.10777129, 11.94040896],\n       [ 6.91743976, 19.50612612, 39.03311669,  8.88365179, 26.32733543,\n        21.18156271, 27.18469427, 14.72398281, 14.33505627, 13.15519306,\n        13.5396938 ,  7.19422452, 13.17906614, 18.34377502, 26.10597814,\n         4.46570341,  4.34214099, 18.84661034, 30.70531122,  6.93488577],\n       [22.07067363, 17.63058325, 14.78961558, 10.90658192,  6.39923891,\n        11.73923598,  4.09026365,  9.4040991 ,  9.14502286,  6.92896954,\n         7.98080954, 15.04480305, 11.73451489, 15.68190981, 11.50086454,\n        22.32024791, 23.76063143, 12.09541389, 27.4390082 , 34.14748776],\n       [20.25353386, 21.01118535, 29.09009358, 10.1537643 ,  6.09694602,\n         3.24073778, 13.65126734, 12.70212066, 12.79360616,  6.65781515,\n        21.05041918, 12.24774704, 24.42561887, 15.41402829, 15.39064289,\n        17.40492974, 16.46407999, 35.13407781, 12.32456552,  4.29547506],\n       [15.90088702, 17.53740352, 24.29626559, 23.3305894 , 21.1376185 ,\n         3.76818533, 10.17143009, 23.59338539, 29.51350182, 22.10607556,\n         3.6689938 , 10.16932799, 16.61975951,  3.45503451, 37.00588557,\n        16.46979488,  9.85695502, 21.80160538, 18.15284662, 11.81770888],\n       [ 5.84065647, 10.71827265, 23.61020572,  8.67871324, 42.41862995,\n        14.86320749, 14.76469177, 23.13490493, 17.2084347 ,  9.31188454,\n        27.48221103, 22.46541734, 19.51775496, 47.31083933, 15.14336795,\n        13.59086944,  6.80454298,  6.22415334, 13.33930042,  7.26446635],\n       [22.09150366,  2.7643393 , 35.07450816, 11.04664755, 22.06303063,\n         7.86812297,  7.48129135,  3.56987499, 30.71885015,  2.92247855,\n         9.26448076,  5.31061892, 27.00091876,  3.36867396, 15.76554923,\n        19.90003855, 17.78929253, 12.82777437, 12.86722903, 10.28957048],\n       [12.10128344,  8.6729291 , 23.61363057,  8.28321099, 12.91437835,\n        34.8075479 , 15.60335942, 15.59049314, 41.45523921, 12.41009697,\n        10.98776094, 10.66808982,  9.30856156,  7.56805835, 15.05117147,\n        15.26752895,  7.85605038, 18.61743888, 11.7056391 , 18.45009627],\n       [ 9.7476814 , 35.09689094, 27.62203885, 23.68243339,  6.43825765,\n        39.73805228, 16.10300688,  8.47729678, 23.7870662 ,  5.41491882,\n         8.38753058,  4.69645186, 14.54081432, 13.74233635,  7.11002008,\n        12.5003736 , 14.21341102, 25.92342344, 11.73205969, 18.46970097],\n       [16.43986743,  6.28509216,  5.88564152, 14.37140664, 14.10452007,\n         2.38684741, 14.54172579, 15.5668629 ,  8.71102367, 19.66423234,\n         7.89953177,  9.95539213,  8.33056951,  8.26310704, 14.0027766 ,\n        13.10134778,  6.48750308, 26.27006405, 14.2615514 , 11.00610148],\n       [19.33854284, 15.476353  , 16.93631911,  4.9489628 , 21.60162662,\n        12.35812772, 14.03425244, 24.54255164,  6.23493856,  6.78973475,\n        10.50456502, 31.52704923, 15.77470118,  4.38708603, 24.86687106,\n        19.09926255,  4.397319  , 11.24777308, 16.55538565, 13.71781657],\n       [14.06540895,  5.48855311, 15.85960335,  7.71916286, 14.60021204,\n        12.2932293 ,  7.61714006, 14.40463599, 12.99531998, 22.37857824,\n         6.93928068,  8.38264622, 12.19468552, 24.43592518, 30.06710952,\n        17.86076943,  6.01305518, 13.14037916, 21.63682211, 16.27664947],\n       [ 7.48779349, 19.31517757, 25.57331083, 11.24362077, 57.20969823,\n         4.76915512,  3.70810833, 11.86902723, 15.46623269,  8.94929086,\n        11.35618676, 24.49542467, 12.43705978,  7.55053608, 21.0947841 ,\n        14.5229844 ,  3.97739612, 12.99926161, 21.90534399, 28.18693396],\n       [10.34885049, 29.73124941, 26.16693412,  8.78525534, 27.83832668,\n        13.09025113, 10.9337031 , 13.1097724 ,  9.22520829, 15.01983922,\n         3.69890419,  9.58119607, 12.06717113, 18.85932985, 14.49645152,\n         9.59177427,  6.73288432, 16.24264519, 21.54766789, 72.65041727],\n       [ 7.35896323, 10.03074591, 10.32299733, 13.88840807,  6.87690794,\n         6.26462372,  9.32588772, 10.07764812, 16.25102717, 10.91493652,\n         7.59026713,  5.77364788, 11.52367514,  9.30267587, 25.43400918,\n        18.41806699,  9.26855408, 10.20784826, 20.09747495,  4.85172031],\n       [ 7.35367807,  7.87319821,  5.72588222,  2.95599508, 16.08278719,\n        15.59603865,  8.83343889, 14.21748935,  9.38722498, 13.26113166,\n         7.91097439,  4.1388033 , 23.48309292, 10.95306937, 17.76472723,\n        22.24140879,  8.77221441, 14.39938175, 30.74413762, 23.30643053],\n       [13.10904038, 17.12382728, 17.96434   , 14.83438315, 13.75533595,\n        27.18256104,  2.34425111,  8.82847347,  9.00790879, 13.07763014,\n        13.19593173, 10.53920675,  6.30811859, 11.17629956, 14.28215356,\n         5.77525828, 20.16637773,  5.11532747, 13.497176  , 10.06674178],\n       [ 2.01401258,  3.85498322,  7.51764227, 14.75192582,  9.2523446 ,\n        15.23683736,  8.77760878,  8.00209437,  9.98589708, 11.01672311,\n        17.76897375,  7.37967871, 12.45200977, 21.44808596, 10.80188181,\n        25.89342692,  2.88368823, 23.16519907, 13.3151004 , 26.23920743],\n       [17.931705  , 12.90627038, 16.30136853, 13.64900852, 33.09998725,\n         2.96120564, 10.62026934,  9.46210801, 12.70459556, 13.59773633,\n        13.10381471, 15.35178308,  7.89068255, 32.69206988, 10.09249694,\n        14.45533191, 12.66596744, 18.87775185, 12.96037235, 17.75438335]]))",
     "output_type": "error",
     "traceback": [
      "\u001b[0;31m---------------------------------------------------------------------------\u001b[0m",
      "\u001b[0;31mValueError\u001b[0m                                Traceback (most recent call last)",
      "\u001b[0;32m<ipython-input-40-b3a368f841c1>\u001b[0m in \u001b[0;36m<module>\u001b[0;34m()\u001b[0m\n\u001b[1;32m      1\u001b[0m \u001b[0mgan\u001b[0m \u001b[0;34m=\u001b[0m \u001b[0mGAN_residuals\u001b[0m\u001b[0;34m(\u001b[0m\u001b[0mx1_train\u001b[0m\u001b[0;34m,\u001b[0m \u001b[0mx2_train\u001b[0m\u001b[0;34m)\u001b[0m\u001b[0;34m\u001b[0m\u001b[0;34m\u001b[0m\u001b[0m\n\u001b[0;32m----> 2\u001b[0;31m \u001b[0mplot_model\u001b[0m  \u001b[0;34m=\u001b[0m \u001b[0mgan\u001b[0m\u001b[0;34m.\u001b[0m\u001b[0mtrain\u001b[0m\u001b[0;34m(\u001b[0m\u001b[0mepochs\u001b[0m\u001b[0;34m=\u001b[0m\u001b[0;36m20\u001b[0m\u001b[0;34m,\u001b[0m \u001b[0mbatch_size\u001b[0m\u001b[0;34m=\u001b[0m\u001b[0;36m32\u001b[0m\u001b[0;34m,\u001b[0m \u001b[0msample_interval\u001b[0m\u001b[0;34m=\u001b[0m\u001b[0;36m200\u001b[0m\u001b[0;34m)\u001b[0m\u001b[0;34m\u001b[0m\u001b[0;34m\u001b[0m\u001b[0m\n\u001b[0m",
      "\u001b[0;32m<ipython-input-39-59264c67d680>\u001b[0m in \u001b[0;36mtrain\u001b[0;34m(self, epochs, batch_size, sample_interval)\u001b[0m\n\u001b[1;32m     69\u001b[0m \u001b[0;34m\u001b[0m\u001b[0m\n\u001b[1;32m     70\u001b[0m             \u001b[0;31m# Train the discriminator\u001b[0m\u001b[0;34m\u001b[0m\u001b[0;34m\u001b[0m\u001b[0;34m\u001b[0m\u001b[0m\n\u001b[0;32m---> 71\u001b[0;31m             \u001b[0md_loss_real\u001b[0m \u001b[0;34m=\u001b[0m \u001b[0mself\u001b[0m\u001b[0;34m.\u001b[0m\u001b[0mdiscriminator\u001b[0m\u001b[0;34m.\u001b[0m\u001b[0mtrain_on_batch\u001b[0m\u001b[0;34m(\u001b[0m\u001b[0mx2\u001b[0m\u001b[0;34m)\u001b[0m \u001b[0;31m#, valid)\u001b[0m\u001b[0;34m\u001b[0m\u001b[0;34m\u001b[0m\u001b[0m\n\u001b[0m\u001b[1;32m     72\u001b[0m             \u001b[0md_loss_fake\u001b[0m \u001b[0;34m=\u001b[0m \u001b[0mself\u001b[0m\u001b[0;34m.\u001b[0m\u001b[0mdiscriminator\u001b[0m\u001b[0;34m.\u001b[0m\u001b[0mtrain_on_batch\u001b[0m\u001b[0;34m(\u001b[0m\u001b[0mgen_x1\u001b[0m\u001b[0;34m)\u001b[0m \u001b[0;31m#, fake)\u001b[0m\u001b[0;34m\u001b[0m\u001b[0;34m\u001b[0m\u001b[0m\n\u001b[1;32m     73\u001b[0m             \u001b[0md_loss\u001b[0m \u001b[0;34m=\u001b[0m \u001b[0;36m0.5\u001b[0m \u001b[0;34m*\u001b[0m \u001b[0mnp\u001b[0m\u001b[0;34m.\u001b[0m\u001b[0madd\u001b[0m\u001b[0;34m(\u001b[0m\u001b[0md_loss_real\u001b[0m\u001b[0;34m,\u001b[0m \u001b[0md_loss_fake\u001b[0m\u001b[0;34m)\u001b[0m\u001b[0;34m\u001b[0m\u001b[0;34m\u001b[0m\u001b[0m\n",
      "\u001b[0;32m~/software/anaconda/envs/py3/lib/python3.6/site-packages/tensorflow_core/python/keras/engine/training.py\u001b[0m in \u001b[0;36mtrain_on_batch\u001b[0;34m(self, x, y, sample_weight, class_weight, reset_metrics)\u001b[0m\n\u001b[1;32m    971\u001b[0m       outputs = training_v2_utils.train_on_batch(\n\u001b[1;32m    972\u001b[0m           \u001b[0mself\u001b[0m\u001b[0;34m,\u001b[0m \u001b[0mx\u001b[0m\u001b[0;34m,\u001b[0m \u001b[0my\u001b[0m\u001b[0;34m=\u001b[0m\u001b[0my\u001b[0m\u001b[0;34m,\u001b[0m \u001b[0msample_weight\u001b[0m\u001b[0;34m=\u001b[0m\u001b[0msample_weight\u001b[0m\u001b[0;34m,\u001b[0m\u001b[0;34m\u001b[0m\u001b[0;34m\u001b[0m\u001b[0m\n\u001b[0;32m--> 973\u001b[0;31m           class_weight=class_weight, reset_metrics=reset_metrics)\n\u001b[0m\u001b[1;32m    974\u001b[0m       outputs = (outputs['total_loss'] + outputs['output_losses'] +\n\u001b[1;32m    975\u001b[0m                  outputs['metrics'])\n",
      "\u001b[0;32m~/software/anaconda/envs/py3/lib/python3.6/site-packages/tensorflow_core/python/keras/engine/training_v2_utils.py\u001b[0m in \u001b[0;36mtrain_on_batch\u001b[0;34m(model, x, y, sample_weight, class_weight, reset_metrics)\u001b[0m\n\u001b[1;32m    251\u001b[0m   x, y, sample_weights = model._standardize_user_data(\n\u001b[1;32m    252\u001b[0m       \u001b[0mx\u001b[0m\u001b[0;34m,\u001b[0m \u001b[0my\u001b[0m\u001b[0;34m,\u001b[0m \u001b[0msample_weight\u001b[0m\u001b[0;34m=\u001b[0m\u001b[0msample_weight\u001b[0m\u001b[0;34m,\u001b[0m \u001b[0mclass_weight\u001b[0m\u001b[0;34m=\u001b[0m\u001b[0mclass_weight\u001b[0m\u001b[0;34m,\u001b[0m\u001b[0;34m\u001b[0m\u001b[0;34m\u001b[0m\u001b[0m\n\u001b[0;32m--> 253\u001b[0;31m       extract_tensors_from_dataset=True)\n\u001b[0m\u001b[1;32m    254\u001b[0m   \u001b[0mbatch_size\u001b[0m \u001b[0;34m=\u001b[0m \u001b[0marray_ops\u001b[0m\u001b[0;34m.\u001b[0m\u001b[0mshape\u001b[0m\u001b[0;34m(\u001b[0m\u001b[0mnest\u001b[0m\u001b[0;34m.\u001b[0m\u001b[0mflatten\u001b[0m\u001b[0;34m(\u001b[0m\u001b[0mx\u001b[0m\u001b[0;34m,\u001b[0m \u001b[0mexpand_composites\u001b[0m\u001b[0;34m=\u001b[0m\u001b[0;32mTrue\u001b[0m\u001b[0;34m)\u001b[0m\u001b[0;34m[\u001b[0m\u001b[0;36m0\u001b[0m\u001b[0;34m]\u001b[0m\u001b[0;34m)\u001b[0m\u001b[0;34m[\u001b[0m\u001b[0;36m0\u001b[0m\u001b[0;34m]\u001b[0m\u001b[0;34m\u001b[0m\u001b[0;34m\u001b[0m\u001b[0m\n\u001b[1;32m    255\u001b[0m   \u001b[0;31m# If `model._distribution_strategy` is True, then we are in a replica context\u001b[0m\u001b[0;34m\u001b[0m\u001b[0;34m\u001b[0m\u001b[0;34m\u001b[0m\u001b[0m\n",
      "\u001b[0;32m~/software/anaconda/envs/py3/lib/python3.6/site-packages/tensorflow_core/python/keras/engine/training.py\u001b[0m in \u001b[0;36m_standardize_user_data\u001b[0;34m(self, x, y, sample_weight, class_weight, batch_size, check_steps, steps_name, steps, validation_split, shuffle, extract_tensors_from_dataset)\u001b[0m\n\u001b[1;32m   2470\u001b[0m           \u001b[0mfeed_input_shapes\u001b[0m\u001b[0;34m,\u001b[0m\u001b[0;34m\u001b[0m\u001b[0;34m\u001b[0m\u001b[0m\n\u001b[1;32m   2471\u001b[0m           \u001b[0mcheck_batch_axis\u001b[0m\u001b[0;34m=\u001b[0m\u001b[0;32mFalse\u001b[0m\u001b[0;34m,\u001b[0m  \u001b[0;31m# Don't enforce the batch size.\u001b[0m\u001b[0;34m\u001b[0m\u001b[0;34m\u001b[0m\u001b[0m\n\u001b[0;32m-> 2472\u001b[0;31m           exception_prefix='input')\n\u001b[0m\u001b[1;32m   2473\u001b[0m \u001b[0;34m\u001b[0m\u001b[0m\n\u001b[1;32m   2474\u001b[0m     \u001b[0;31m# Get typespecs for the input data and sanitize it if necessary.\u001b[0m\u001b[0;34m\u001b[0m\u001b[0;34m\u001b[0m\u001b[0;34m\u001b[0m\u001b[0m\n",
      "\u001b[0;32m~/software/anaconda/envs/py3/lib/python3.6/site-packages/tensorflow_core/python/keras/engine/training_utils.py\u001b[0m in \u001b[0;36mstandardize_input_data\u001b[0;34m(data, names, shapes, check_batch_axis, exception_prefix)\u001b[0m\n\u001b[1;32m    487\u001b[0m       raise ValueError(\n\u001b[1;32m    488\u001b[0m           \u001b[0;34m'Error when checking model '\u001b[0m \u001b[0;34m+\u001b[0m \u001b[0mexception_prefix\u001b[0m \u001b[0;34m+\u001b[0m \u001b[0;34m': '\u001b[0m\u001b[0;34m\u001b[0m\u001b[0;34m\u001b[0m\u001b[0m\n\u001b[0;32m--> 489\u001b[0;31m           'expected no data, but got:', data)\n\u001b[0m\u001b[1;32m    490\u001b[0m     \u001b[0;32mreturn\u001b[0m \u001b[0;34m[\u001b[0m\u001b[0;34m]\u001b[0m\u001b[0;34m\u001b[0m\u001b[0;34m\u001b[0m\u001b[0m\n\u001b[1;32m    491\u001b[0m   \u001b[0;32mif\u001b[0m \u001b[0mdata\u001b[0m \u001b[0;32mis\u001b[0m \u001b[0;32mNone\u001b[0m\u001b[0;34m:\u001b[0m\u001b[0;34m\u001b[0m\u001b[0;34m\u001b[0m\u001b[0m\n",
      "\u001b[0;31mValueError\u001b[0m: ('Error when checking model input: expected no data, but got:', array([[22.51983318, 10.39646107, 23.7418161 , 11.69080243, 35.2022957 ,\n        36.1955743 , 14.84535811, 18.47948061, 36.67710726, 12.3604606 ,\n         6.05917779, 10.83859635, 13.99131333, 17.20095391, 17.59008649,\n        20.82754248, 19.89658766, 10.76773757, 15.42470155, 15.09042127],\n       [ 2.01401258,  3.85498322,  7.51764227, 14.75192582,  9.2523446 ,\n        15.23683736,  8.77760878,  8.00209437,  9.98589708, 11.01672311,\n        17.76897375,  7.37967871, 12.45200977, 21.44808596, 10.80188181,\n        25.89342692,  2.88368823, 23.16519907, 13.3151004 , 26.23920743],\n       [14.7052989 ,  6.28765935, 13.18735416,  6.45566872, 20.18000646,\n         7.4097234 , 17.46095286, 14.56252916, 32.34681873,  1.13777909,\n        12.93941907,  4.03973765,  8.17567555,  5.79518348,  9.85062491,\n        17.062065  ,  6.1565323 , 13.97315162, 25.2115813 , 12.22898344],\n       [ 6.16520957, 11.53956367,  8.35955694, 14.029004  , 32.64339579,\n        51.49936064,  6.69976449, 34.80437942, 19.92261379,  2.38822218,\n         2.46155292, 10.96053929, 15.01572826,  9.25672486, 18.70309924,\n        20.20100805, 14.53013425, 17.88305213,  5.66884182, 18.67140497],\n       [15.71858846,  4.72474157, 19.70370861,  3.41902841, 15.11256514,\n        27.64745758,  8.71145598,  6.27640876,  6.00304586,  5.73468152,\n         6.74676774, 17.7952344 ,  8.26074756, 29.73937485, 28.2581841 ,\n        11.55463791,  7.52521339, 10.01255771, 14.22905469,  4.58646071],\n       [ 9.09616245, 15.43244329, 30.37060679, 21.58221907, 10.77722786,\n         5.73458059,  7.04253199,  7.00033916, 22.80039376,  8.6323268 ,\n        14.50549126,  4.53798532,  4.16394989, 21.55962477, 12.13652207,\n         8.23429639,  4.15478341, 37.36356289,  7.59702552, 15.84933113],\n       [36.82156047,  7.26577535, 21.05596807, 12.32111967,  9.94658778,\n         6.64168066, 15.72215281, 10.54413243, 12.02505794,  6.42004175,\n        10.62857117, 25.08815166, 13.5179786 , 24.34453506,  3.7235271 ,\n        12.60377461, 20.6087603 ,  4.64672114,  6.13166898, 20.67035116],\n       [ 4.93330177, 24.5483771 , 33.56482286,  4.1492299 ,  7.50272301,\n        12.98083765,  7.18535749,  8.72947035,  5.48519137,  8.05442618,\n        22.48991951, 27.89648327, 22.83058947, 16.93268572, 15.20296189,\n        23.95301434,  5.34834931, 10.97285642,  8.79289194, 15.88633802],\n       [ 4.48713325, 16.73854771,  5.94030264,  3.58999099, 15.80866839,\n         7.03772334,  7.80552831, 10.78632627,  4.93763393,  6.18742595,\n        15.70794314, 15.70993265, 28.70677389, 19.88417782, 11.25838263,\n        23.57652007, 14.5179491 ,  3.20699905, 21.32367449,  5.3368897 ],\n       [ 8.28795421,  4.09623344, 24.31615897, 15.22299536, 36.89941501,\n        24.09702811, 11.7464519 , 16.33035523, 17.30004743,  9.03242925,\n        12.04778849,  5.9174057 ,  5.70195494, 17.88430256,  9.59449796,\n        28.36343449, 13.40866782, 10.86384846, 13.59490222, 21.07770243],\n       [ 5.17086008, 19.60357178,  7.6565645 , 15.05963834, 45.66396656,\n        16.49015234, 17.20371672, 15.5162304 ,  6.53719179, 19.89451137,\n        10.65384442,  7.26349603, 15.15423183, 18.73191617, 13.05504669,\n        12.25037798,  3.80227967,  8.13765474,  6.85652472,  8.9767905 ],\n       [ 3.66683309, 12.2237506 , 14.02010238,  6.57046905,  7.88193432,\n        12.73572921,  7.76226232, 13.29133114,  6.65843964, 17.54839262,\n        16.91510531,  5.3131338 , 18.68365364, 24.90313931, 18.77260372,\n        14.33378664, 12.40911792, 18.38631599, 27.57808631, 14.4506287 ],\n       [17.56521016, 39.91513886, 16.97921462, 10.21344347, 32.42679248,\n        27.80151689,  2.49930924, 12.34726185,  9.72660447, 18.42109872,\n        26.75222659, 30.4633518 , 21.96672758,  9.22770133, 16.18143584,\n        10.23414957,  5.86196514, 19.87027562, 19.11307723, 15.66362768],\n       [ 2.60070766, 41.68930006, 15.56082412, 16.10890432, 31.76756046,\n        44.07494198,  6.36648302, 11.11820403,  9.61297279, 19.2196827 ,\n        15.79582705, 12.47845069, 17.38306095, 18.28707141, 13.22601785,\n        15.89444784,  6.06896634, 15.51010043, 24.10777129, 11.94040896],\n       [ 6.91743976, 19.50612612, 39.03311669,  8.88365179, 26.32733543,\n        21.18156271, 27.18469427, 14.72398281, 14.33505627, 13.15519306,\n        13.5396938 ,  7.19422452, 13.17906614, 18.34377502, 26.10597814,\n         4.46570341,  4.34214099, 18.84661034, 30.70531122,  6.93488577],\n       [22.07067363, 17.63058325, 14.78961558, 10.90658192,  6.39923891,\n        11.73923598,  4.09026365,  9.4040991 ,  9.14502286,  6.92896954,\n         7.98080954, 15.04480305, 11.73451489, 15.68190981, 11.50086454,\n        22.32024791, 23.76063143, 12.09541389, 27.4390082 , 34.14748776],\n       [20.25353386, 21.01118535, 29.09009358, 10.1537643 ,  6.09694602,\n         3.24073778, 13.65126734, 12.70212066, 12.79360616,  6.65781515,\n        21.05041918, 12.24774704, 24.42561887, 15.41402829, 15.39064289,\n        17.40492974, 16.46407999, 35.13407781, 12.32456552,  4.29547506],\n       [15.90088702, 17.53740352, 24.29626559, 23.3305894 , 21.1376185 ,\n         3.76818533, 10.17143009, 23.59338539, 29.51350182, 22.10607556,\n         3.6689938 , 10.16932799, 16.61975951,  3.45503451, 37.00588557,\n        16.46979488,  9.85695502, 21.80160538, 18.15284662, 11.81770888],\n       [ 5.84065647, 10.71827265, 23.61020572,  8.67871324, 42.41862995,\n        14.86320749, 14.76469177, 23.13490493, 17.2084347 ,  9.31188454,\n        27.48221103, 22.46541734, 19.51775496, 47.31083933, 15.14336795,\n        13.59086944,  6.80454298,  6.22415334, 13.33930042,  7.26446635],\n       [22.09150366,  2.7643393 , 35.07450816, 11.04664755, 22.06303063,\n         7.86812297,  7.48129135,  3.56987499, 30.71885015,  2.92247855,\n         9.26448076,  5.31061892, 27.00091876,  3.36867396, 15.76554923,\n        19.90003855, 17.78929253, 12.82777437, 12.86722903, 10.28957048],\n       [12.10128344,  8.6729291 , 23.61363057,  8.28321099, 12.91437835,\n        34.8075479 , 15.60335942, 15.59049314, 41.45523921, 12.41009697,\n        10.98776094, 10.66808982,  9.30856156,  7.56805835, 15.05117147,\n        15.26752895,  7.85605038, 18.61743888, 11.7056391 , 18.45009627],\n       [ 9.7476814 , 35.09689094, 27.62203885, 23.68243339,  6.43825765,\n        39.73805228, 16.10300688,  8.47729678, 23.7870662 ,  5.41491882,\n         8.38753058,  4.69645186, 14.54081432, 13.74233635,  7.11002008,\n        12.5003736 , 14.21341102, 25.92342344, 11.73205969, 18.46970097],\n       [16.43986743,  6.28509216,  5.88564152, 14.37140664, 14.10452007,\n         2.38684741, 14.54172579, 15.5668629 ,  8.71102367, 19.66423234,\n         7.89953177,  9.95539213,  8.33056951,  8.26310704, 14.0027766 ,\n        13.10134778,  6.48750308, 26.27006405, 14.2615514 , 11.00610148],\n       [19.33854284, 15.476353  , 16.93631911,  4.9489628 , 21.60162662,\n        12.35812772, 14.03425244, 24.54255164,  6.23493856,  6.78973475,\n        10.50456502, 31.52704923, 15.77470118,  4.38708603, 24.86687106,\n        19.09926255,  4.397319  , 11.24777308, 16.55538565, 13.71781657],\n       [14.06540895,  5.48855311, 15.85960335,  7.71916286, 14.60021204,\n        12.2932293 ,  7.61714006, 14.40463599, 12.99531998, 22.37857824,\n         6.93928068,  8.38264622, 12.19468552, 24.43592518, 30.06710952,\n        17.86076943,  6.01305518, 13.14037916, 21.63682211, 16.27664947],\n       [ 7.48779349, 19.31517757, 25.57331083, 11.24362077, 57.20969823,\n         4.76915512,  3.70810833, 11.86902723, 15.46623269,  8.94929086,\n        11.35618676, 24.49542467, 12.43705978,  7.55053608, 21.0947841 ,\n        14.5229844 ,  3.97739612, 12.99926161, 21.90534399, 28.18693396],\n       [10.34885049, 29.73124941, 26.16693412,  8.78525534, 27.83832668,\n        13.09025113, 10.9337031 , 13.1097724 ,  9.22520829, 15.01983922,\n         3.69890419,  9.58119607, 12.06717113, 18.85932985, 14.49645152,\n         9.59177427,  6.73288432, 16.24264519, 21.54766789, 72.65041727],\n       [ 7.35896323, 10.03074591, 10.32299733, 13.88840807,  6.87690794,\n         6.26462372,  9.32588772, 10.07764812, 16.25102717, 10.91493652,\n         7.59026713,  5.77364788, 11.52367514,  9.30267587, 25.43400918,\n        18.41806699,  9.26855408, 10.20784826, 20.09747495,  4.85172031],\n       [ 7.35367807,  7.87319821,  5.72588222,  2.95599508, 16.08278719,\n        15.59603865,  8.83343889, 14.21748935,  9.38722498, 13.26113166,\n         7.91097439,  4.1388033 , 23.48309292, 10.95306937, 17.76472723,\n        22.24140879,  8.77221441, 14.39938175, 30.74413762, 23.30643053],\n       [13.10904038, 17.12382728, 17.96434   , 14.83438315, 13.75533595,\n        27.18256104,  2.34425111,  8.82847347,  9.00790879, 13.07763014,\n        13.19593173, 10.53920675,  6.30811859, 11.17629956, 14.28215356,\n         5.77525828, 20.16637773,  5.11532747, 13.497176  , 10.06674178],\n       [ 2.01401258,  3.85498322,  7.51764227, 14.75192582,  9.2523446 ,\n        15.23683736,  8.77760878,  8.00209437,  9.98589708, 11.01672311,\n        17.76897375,  7.37967871, 12.45200977, 21.44808596, 10.80188181,\n        25.89342692,  2.88368823, 23.16519907, 13.3151004 , 26.23920743],\n       [17.931705  , 12.90627038, 16.30136853, 13.64900852, 33.09998725,\n         2.96120564, 10.62026934,  9.46210801, 12.70459556, 13.59773633,\n        13.10381471, 15.35178308,  7.89068255, 32.69206988, 10.09249694,\n        14.45533191, 12.66596744, 18.87775185, 12.96037235, 17.75438335]]))"
     ]
    }
   ],
   "source": [
    "gan = GAN_residuals(x1_train, x2_train)\n",
    "plot_model  = gan.train(epochs=20, batch_size=32, sample_interval=200)\n"
   ]
  },
  {
   "cell_type": "code",
   "execution_count": 19,
   "metadata": {},
   "outputs": [],
   "source": [
    "# class MLP(tf.keras.Model):\n",
    "#     def __init__(self):\n",
    "#         super(MLP, self).__init__()\n",
    "#         self.Lrelu = tf.keras.layers.LeakyReLU(alpha=0.2)\n",
    "#         #self.bn = tf.keras.layers.BatchNormalization(momentum=0.8)\n",
    "#         self.densetanh = tf.keras.layers.Dense(20, activation='tanh')\n",
    "#         self.sigmoid = tf.keras.layers.Dense(1, activation='sigmoid')\n",
    "#         self.dense_1 = Dense(20, activation='relu')\n",
    "#         self.dense_4 = Dense(10)\n",
    "#         self.dense_2 = Dense(15)\n",
    "#         self.dense_3 = Dense(20)\n",
    "\n",
    "#     def call(self, inputs):\n",
    "#         x = self.dense_1(inputs)\n",
    "#         x = self.Lrelu(x)\n",
    "#         x = tf.keras.layers.BatchNormalization(momentum=0.8)(x)\n",
    "        \n",
    "#         x = self.dense_2(x)\n",
    "#         x = self.Lrelu(x)\n",
    "#         x = tf.keras.layers.BatchNormalization(momentum=0.8)(x)\n",
    "\n",
    "#         x = self.dense_3(x)\n",
    "#         x = self.Lrelu(x)\n",
    "#         x = tf.keras.layers.BatchNormalization(momentum=0.8)(x)\n",
    "#         return x\n",
    "\n",
    "# # Instantiate the model.\n",
    "# mlp = MLP()\n",
    "# # Necessary to create the model's state.\n",
    "# # The model doesn't have a state until it's called at least once.\n",
    "# #_ = mlp(tf.zeros((1, 20)))\n",
    "#mlp.predict(x1_train[1:128].values, verbose = 1)\n"
   ]
  },
  {
   "cell_type": "code",
   "execution_count": null,
   "metadata": {},
   "outputs": [],
   "source": [
    "############# VISUALIZATIONS ############# "
   ]
  },
  {
   "cell_type": "code",
   "execution_count": 286,
   "metadata": {},
   "outputs": [
    {
     "data": {
      "image/png": "[encoded data removed]",
      "text/plain": [
       "<Figure size 432x288 with 1 Axes>"
      ]
     },
     "metadata": {
      "needs_background": "light"
     },
     "output_type": "display_data"
    }
   ],
   "source": [
    "plot_dir = '/Users/laurieprelot/Documents/Projects/2019_Deep_learning/data/plots_gans'\n",
    "plt.plot(plot_model[\"epoch\"], plot_model[\"g_loss\"], label = 'Generator loss')\n",
    "plt.plot(plot_model[\"epoch\"], plot_model[\"d_loss\"], label = 'Discriminator loss')\n",
    "plt.legend()\n",
    "plt.xlabel(\"epoch\")\n",
    "plt.ylabel(\"Loss\")\n",
    "mytitle = \"Vanilla Gan losses toy datasets\"\n",
    "plt.title(mytitle)\n",
    "plt.savefig(os.path.join(plot_dir, mytitle.replace(' ', '_') + '.pdf'), bbox_anchor = 'tight')"
   ]
  },
  {
   "cell_type": "code",
   "execution_count": 13,
   "metadata": {},
   "outputs": [
    {
     "name": "stdout",
     "output_type": "stream",
     "text": [
      "[t-SNE] Computing 31 nearest neighbors...\n",
      "[t-SNE] Indexed 206 samples in 0.003s...\n",
      "[t-SNE] Computed neighbors for 206 samples in 0.003s...\n",
      "[t-SNE] Computed conditional probabilities for sample 206 / 206\n",
      "[t-SNE] Mean sigma: 5.471454\n",
      "[t-SNE] KL divergence after 250 iterations with early exaggeration: 80.509445\n",
      "[t-SNE] KL divergence after 500 iterations: 1.341254\n"
     ]
    },
    {
     "data": {
      "image/png": "[encoded data removed]",
      "text/plain": [
       "<Figure size 478.125x360 with 1 Axes>"
      ]
     },
     "metadata": {
      "needs_background": "light"
     },
     "output_type": "display_data"
    },
    {
     "name": "stdout",
     "output_type": "stream",
     "text": [
      "[t-SNE] Computing 61 nearest neighbors...\n",
      "[t-SNE] Indexed 206 samples in 0.000s...\n",
      "[t-SNE] Computed neighbors for 206 samples in 0.005s...\n",
      "[t-SNE] Computed conditional probabilities for sample 206 / 206\n",
      "[t-SNE] Mean sigma: 5.980623\n",
      "[t-SNE] KL divergence after 250 iterations with early exaggeration: 71.199615\n",
      "[t-SNE] KL divergence after 500 iterations: 1.234557\n"
     ]
    },
    {
     "data": {
      "image/png": "[encoded data removed]",
      "text/plain": [
       "<Figure size 478.125x360 with 1 Axes>"
      ]
     },
     "metadata": {
      "needs_background": "light"
     },
     "output_type": "display_data"
    }
   ],
   "source": [
    "# note: x1_test should be replaced with with model output\n",
    "plot_tsne(x1_test, do_pca = True, n_plots = 2, iter_ = 500, pca_components = 20)"
   ]
  },
  {
   "cell_type": "code",
   "execution_count": 14,
   "metadata": {},
   "outputs": [
    {
     "data": {
      "image/png": "[encoded data removed]",
      "text/plain": [
       "<Figure size 432x288 with 1 Axes>"
      ]
     },
     "metadata": {
      "needs_background": "light"
     },
     "output_type": "display_data"
    }
   ],
   "source": [
    "plot_umap(x1_test)"
   ]
  },
  {
   "cell_type": "code",
   "execution_count": null,
   "metadata": {},
   "outputs": [],
   "source": [
    "#eval_knn_proportions(x1_test)"
   ]
  }
 ],
 "metadata": {
  "kernelspec": {
   "display_name": "Python 3",
   "language": "python",
   "name": "python3"
  },
  "language_info": {
   "codemirror_mode": {
    "name": "ipython",
    "version": 3
   },
   "file_extension": ".py",
   "mimetype": "text/x-python",
   "name": "python",
   "nbconvert_exporter": "python",
   "pygments_lexer": "ipython3",
   "version": "3.6.8"
  }
 },
 "nbformat": 4,
 "nbformat_minor": 2
}
