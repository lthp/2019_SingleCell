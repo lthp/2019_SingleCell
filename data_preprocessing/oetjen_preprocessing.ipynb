{
 "cells": [
  {
   "cell_type": "code",
   "execution_count": 2,
   "metadata": {},
   "outputs": [
    {
     "name": "stderr",
     "output_type": "stream",
     "text": [
      "/Users/joannaf/anaconda3/envs/dl/lib/python3.7/site-packages/FlowCytometryTools/core/docstring.py:56: MatplotlibDeprecationWarning: \n",
      "The dedent function was deprecated in Matplotlib 3.1 and will be removed in 3.3. Use inspect.cleandoc instead.\n",
      "  doc = dedent(doc)\n",
      "/Users/joannaf/anaconda3/envs/dl/lib/python3.7/site-packages/FlowCytometryTools/core/docstring.py:56: MatplotlibDeprecationWarning: \n",
      "The dedent function was deprecated in Matplotlib 3.1 and will be removed in 3.3. Use inspect.cleandoc instead.\n",
      "  doc = dedent(doc)\n"
     ]
    }
   ],
   "source": [
    "import tensorflow as tf\n",
    "import numpy as np\n",
    "import pandas as pd\n",
    "import os \n",
    "import glob\n",
    "from FlowCytometryTools import FCMeasurement\n",
    "from collections import Counter\n",
    "import pdb"
   ]
  },
  {
   "cell_type": "code",
   "execution_count": null,
   "metadata": {},
   "outputs": [],
   "source": [
    "# Note: channel-marker correspondence differs given cell-type analysed\n",
    "# to get the marker names consult color_Panel_Design.pdf (summarized below)\n",
    "panels_dict = dict()\n",
    "panels_dict['T'] = dict([['V450','CCR7'],['V545','Dead'],['V605','CD4'],['V655','CD45RA'],\n",
    "                        ['V800','CD3'],['B515','CD27'],['B710','CXCR4'],['G560','CD49b'],\n",
    "                        ['G610','CD14/19'],['G660','CD69'],['G780','CD103'],['R660','CD95'],\n",
    "                        ['R780','CD8']])\n",
    "panels_dict['B'] = dict([['V450','CD80'],['V545','Dead'],['V605','CD27'],['V655','CD19'],\n",
    "                        ['V800','CD45'],['B515','CD10'],['B710','CD138'],['G560','PD-1'],\n",
    "                        ['G610','CD20'],['G660','CD38'],['G780','CD86'],['R660','CD21'],\n",
    "                        ['R780','CD40']])\n",
    "panels_dict['NK'] = dict([['V450','CD7'],['V545','Dead'],['V605','CD335'],['V655','CD314'],\n",
    "                         ['V800','CD45'],['B515','CD158e1'],['B710','CD226'],['G560','PD-1'],\n",
    "                         ['G610','CD16'],['G660','CD69'],['G780','CD56'],['R660','NKG2C'],\n",
    "                         ['R780','CD3']])\n",
    "panels_dict['Mono'] = dict([['V450','CD15'],['V545','Dead'],['V605','CD33'],['V655','HLA-DR'],\n",
    "                           ['V800','CD45'],['B515','Lineage'],['B710','CD14'],['G560','PD-L1'],\n",
    "                           ['G610','CD16'],['G660','CD11b'],['G780','CD124'],['R660','CD64'],\n",
    "                           ['R780','CD13']])\n",
    "panels_dict['DC'] = dict([['V450','CD123'],['V545','Dead'],['V605','CD141'],['V655','HLA-DR'],\n",
    "                         ['V800','CD45'],['B515','Lineage'],['B710','CD34'],['G560','PD-L1'],\n",
    "                         ['G610','CD303'],['G660','CD11c'],['G780','CD1c'],['R660','CD117'],\n",
    "                         ['R780','CD40']])"
   ]
  },
  {
   "cell_type": "code",
   "execution_count": null,
   "metadata": {},
   "outputs": [],
   "source": [
    "# data_dir with all the files downloaded from http://flowrepository.org/id/FR-FCM-ZYQ9\n",
    "data_dir='/Users/joannaf/Desktop/DeepLearning/DL2019/project/data/Dataset3'\n",
    "files = os.listdir(data_dir)\n",
    "# for now ignore the Unstained cells and non-data files\n",
    "files = [x for x in files if '.fcs' in x and 'Unstained' not in x]\n",
    "# the following list can be replaced by already existing one\n",
    "exhaustive_markers = []\n",
    "for file in files:\n",
    "    try:\n",
    "        df = FCMeasurement(ID='Sample', datafile=glob.glob(data_dir+'/'+file)[0])\n",
    "        cols = [x.split('-')[0] for x in df.get_data().columns if '-' in x]\n",
    "        panel = panels_dict[file.split('anel_')[-1].split('_')[0]]\n",
    "        markers = [panel[x] for x in cols if x in panel.keys()]\n",
    "        exhaustive_markers.extend(markers)\n",
    "    except: \n",
    "        print('Error: could not be loaded ('+file+')')\n",
    "Counter(exhaustive_markers)\n",
    "markers3 = list(set([x for x in exhaustive_markers if x not in ['Dead','Lineage']]))"
   ]
  }
 ],
 "metadata": {
  "kernelspec": {
   "display_name": "Python (dl)",
   "language": "python",
   "name": "dl"
  },
  "language_info": {
   "codemirror_mode": {
    "name": "ipython",
    "version": 3
   },
   "file_extension": ".py",
   "mimetype": "text/x-python",
   "name": "python",
   "nbconvert_exporter": "python",
   "pygments_lexer": "ipython3",
   "version": "3.7.4"
  }
 },
 "nbformat": 4,
 "nbformat_minor": 2
}
